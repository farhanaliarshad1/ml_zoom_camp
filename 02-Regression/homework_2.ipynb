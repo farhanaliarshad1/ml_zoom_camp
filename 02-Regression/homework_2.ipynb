{
 "cells": [
  {
   "cell_type": "code",
   "execution_count": 7,
   "id": "61c144fe-f602-4624-b29f-fe2bcf3d2985",
   "metadata": {},
   "outputs": [],
   "source": [
    "import pandas as pd\n",
    "import numpy as np\n",
    "\n",
    "# Load the dataset\n",
    "df = pd.read_csv('../01-ml_introduction/car_fuel_efficiency.csv')\n"
   ]
  },
  {
   "cell_type": "code",
   "execution_count": 8,
   "id": "2082c0e8-b5c6-408a-8193-6e085c034865",
   "metadata": {},
   "outputs": [
    {
     "data": {
      "text/html": [
       "<div>\n",
       "<style scoped>\n",
       "    .dataframe tbody tr th:only-of-type {\n",
       "        vertical-align: middle;\n",
       "    }\n",
       "\n",
       "    .dataframe tbody tr th {\n",
       "        vertical-align: top;\n",
       "    }\n",
       "\n",
       "    .dataframe thead th {\n",
       "        text-align: right;\n",
       "    }\n",
       "</style>\n",
       "<table border=\"1\" class=\"dataframe\">\n",
       "  <thead>\n",
       "    <tr style=\"text-align: right;\">\n",
       "      <th></th>\n",
       "      <th>engine_displacement</th>\n",
       "      <th>num_cylinders</th>\n",
       "      <th>horsepower</th>\n",
       "      <th>vehicle_weight</th>\n",
       "      <th>acceleration</th>\n",
       "      <th>model_year</th>\n",
       "      <th>origin</th>\n",
       "      <th>fuel_type</th>\n",
       "      <th>drivetrain</th>\n",
       "      <th>num_doors</th>\n",
       "      <th>fuel_efficiency_mpg</th>\n",
       "    </tr>\n",
       "  </thead>\n",
       "  <tbody>\n",
       "    <tr>\n",
       "      <th>0</th>\n",
       "      <td>170</td>\n",
       "      <td>3.0</td>\n",
       "      <td>159.0</td>\n",
       "      <td>3413.433759</td>\n",
       "      <td>17.7</td>\n",
       "      <td>2003</td>\n",
       "      <td>Europe</td>\n",
       "      <td>Gasoline</td>\n",
       "      <td>All-wheel drive</td>\n",
       "      <td>0.0</td>\n",
       "      <td>13.231729</td>\n",
       "    </tr>\n",
       "    <tr>\n",
       "      <th>1</th>\n",
       "      <td>130</td>\n",
       "      <td>5.0</td>\n",
       "      <td>97.0</td>\n",
       "      <td>3149.664934</td>\n",
       "      <td>17.8</td>\n",
       "      <td>2007</td>\n",
       "      <td>USA</td>\n",
       "      <td>Gasoline</td>\n",
       "      <td>Front-wheel drive</td>\n",
       "      <td>0.0</td>\n",
       "      <td>13.688217</td>\n",
       "    </tr>\n",
       "    <tr>\n",
       "      <th>2</th>\n",
       "      <td>170</td>\n",
       "      <td>NaN</td>\n",
       "      <td>78.0</td>\n",
       "      <td>3079.038997</td>\n",
       "      <td>15.1</td>\n",
       "      <td>2018</td>\n",
       "      <td>Europe</td>\n",
       "      <td>Gasoline</td>\n",
       "      <td>Front-wheel drive</td>\n",
       "      <td>0.0</td>\n",
       "      <td>14.246341</td>\n",
       "    </tr>\n",
       "    <tr>\n",
       "      <th>3</th>\n",
       "      <td>220</td>\n",
       "      <td>4.0</td>\n",
       "      <td>NaN</td>\n",
       "      <td>2542.392402</td>\n",
       "      <td>20.2</td>\n",
       "      <td>2009</td>\n",
       "      <td>USA</td>\n",
       "      <td>Diesel</td>\n",
       "      <td>All-wheel drive</td>\n",
       "      <td>2.0</td>\n",
       "      <td>16.912736</td>\n",
       "    </tr>\n",
       "    <tr>\n",
       "      <th>4</th>\n",
       "      <td>210</td>\n",
       "      <td>1.0</td>\n",
       "      <td>140.0</td>\n",
       "      <td>3460.870990</td>\n",
       "      <td>14.4</td>\n",
       "      <td>2009</td>\n",
       "      <td>Europe</td>\n",
       "      <td>Gasoline</td>\n",
       "      <td>All-wheel drive</td>\n",
       "      <td>2.0</td>\n",
       "      <td>12.488369</td>\n",
       "    </tr>\n",
       "  </tbody>\n",
       "</table>\n",
       "</div>"
      ],
      "text/plain": [
       "   engine_displacement  num_cylinders  horsepower  vehicle_weight  \\\n",
       "0                  170            3.0       159.0     3413.433759   \n",
       "1                  130            5.0        97.0     3149.664934   \n",
       "2                  170            NaN        78.0     3079.038997   \n",
       "3                  220            4.0         NaN     2542.392402   \n",
       "4                  210            1.0       140.0     3460.870990   \n",
       "\n",
       "   acceleration  model_year  origin fuel_type         drivetrain  num_doors  \\\n",
       "0          17.7        2003  Europe  Gasoline    All-wheel drive        0.0   \n",
       "1          17.8        2007     USA  Gasoline  Front-wheel drive        0.0   \n",
       "2          15.1        2018  Europe  Gasoline  Front-wheel drive        0.0   \n",
       "3          20.2        2009     USA    Diesel    All-wheel drive        2.0   \n",
       "4          14.4        2009  Europe  Gasoline    All-wheel drive        2.0   \n",
       "\n",
       "   fuel_efficiency_mpg  \n",
       "0            13.231729  \n",
       "1            13.688217  \n",
       "2            14.246341  \n",
       "3            16.912736  \n",
       "4            12.488369  "
      ]
     },
     "execution_count": 8,
     "metadata": {},
     "output_type": "execute_result"
    }
   ],
   "source": [
    "df.head()"
   ]
  },
  {
   "cell_type": "code",
   "execution_count": 9,
   "id": "ffe18079-20cf-4bbb-80d1-bea8b88d70f2",
   "metadata": {},
   "outputs": [
    {
     "name": "stdout",
     "output_type": "stream",
     "text": [
      "Selected dataset shape: (9704, 5)\n",
      "\n",
      "Columns: ['engine_displacement', 'horsepower', 'vehicle_weight', 'model_year', 'fuel_efficiency_mpg']\n"
     ]
    }
   ],
   "source": [
    "# Select only the required columns\n",
    "columns_to_use = [\n",
    "    'engine_displacement',\n",
    "    'horsepower', \n",
    "    'vehicle_weight',\n",
    "    'model_year',\n",
    "    'fuel_efficiency_mpg'\n",
    "]\n",
    "\n",
    "# Create a new dataframe with only these columns\n",
    "df_selected = df[columns_to_use]\n",
    "\n",
    "# Display the prepared dataset\n",
    "print(\"Selected dataset shape:\", df_selected.shape)\n",
    "print(\"\\nColumns:\", df_selected.columns.tolist())\n"
   ]
  },
  {
   "cell_type": "code",
   "execution_count": 10,
   "id": "7f87f9d7-ebdf-4ad9-b01e-0578bac6fdf7",
   "metadata": {},
   "outputs": [
    {
     "data": {
      "text/html": [
       "<div>\n",
       "<style scoped>\n",
       "    .dataframe tbody tr th:only-of-type {\n",
       "        vertical-align: middle;\n",
       "    }\n",
       "\n",
       "    .dataframe tbody tr th {\n",
       "        vertical-align: top;\n",
       "    }\n",
       "\n",
       "    .dataframe thead th {\n",
       "        text-align: right;\n",
       "    }\n",
       "</style>\n",
       "<table border=\"1\" class=\"dataframe\">\n",
       "  <thead>\n",
       "    <tr style=\"text-align: right;\">\n",
       "      <th></th>\n",
       "      <th>engine_displacement</th>\n",
       "      <th>horsepower</th>\n",
       "      <th>vehicle_weight</th>\n",
       "      <th>model_year</th>\n",
       "      <th>fuel_efficiency_mpg</th>\n",
       "    </tr>\n",
       "  </thead>\n",
       "  <tbody>\n",
       "    <tr>\n",
       "      <th>0</th>\n",
       "      <td>170</td>\n",
       "      <td>159.0</td>\n",
       "      <td>3413.433759</td>\n",
       "      <td>2003</td>\n",
       "      <td>13.231729</td>\n",
       "    </tr>\n",
       "    <tr>\n",
       "      <th>1</th>\n",
       "      <td>130</td>\n",
       "      <td>97.0</td>\n",
       "      <td>3149.664934</td>\n",
       "      <td>2007</td>\n",
       "      <td>13.688217</td>\n",
       "    </tr>\n",
       "    <tr>\n",
       "      <th>2</th>\n",
       "      <td>170</td>\n",
       "      <td>78.0</td>\n",
       "      <td>3079.038997</td>\n",
       "      <td>2018</td>\n",
       "      <td>14.246341</td>\n",
       "    </tr>\n",
       "    <tr>\n",
       "      <th>3</th>\n",
       "      <td>220</td>\n",
       "      <td>NaN</td>\n",
       "      <td>2542.392402</td>\n",
       "      <td>2009</td>\n",
       "      <td>16.912736</td>\n",
       "    </tr>\n",
       "    <tr>\n",
       "      <th>4</th>\n",
       "      <td>210</td>\n",
       "      <td>140.0</td>\n",
       "      <td>3460.870990</td>\n",
       "      <td>2009</td>\n",
       "      <td>12.488369</td>\n",
       "    </tr>\n",
       "  </tbody>\n",
       "</table>\n",
       "</div>"
      ],
      "text/plain": [
       "   engine_displacement  horsepower  vehicle_weight  model_year  \\\n",
       "0                  170       159.0     3413.433759        2003   \n",
       "1                  130        97.0     3149.664934        2007   \n",
       "2                  170        78.0     3079.038997        2018   \n",
       "3                  220         NaN     2542.392402        2009   \n",
       "4                  210       140.0     3460.870990        2009   \n",
       "\n",
       "   fuel_efficiency_mpg  \n",
       "0            13.231729  \n",
       "1            13.688217  \n",
       "2            14.246341  \n",
       "3            16.912736  \n",
       "4            12.488369  "
      ]
     },
     "execution_count": 10,
     "metadata": {},
     "output_type": "execute_result"
    }
   ],
   "source": [
    "df_selected.head()"
   ]
  },
  {
   "cell_type": "code",
   "execution_count": 11,
   "id": "308f4bd0-16f1-48ba-bb26-aefe3fedb518",
   "metadata": {},
   "outputs": [
    {
     "name": "stdout",
     "output_type": "stream",
     "text": [
      "Fuel Efficiency MPG Statistics:\n",
      "count    9704.000000\n",
      "mean       14.985243\n",
      "std         2.556468\n",
      "min         6.200971\n",
      "25%        13.267459\n",
      "50%        15.006037\n",
      "75%        16.707965\n",
      "max        25.967222\n",
      "Name: fuel_efficiency_mpg, dtype: float64\n"
     ]
    }
   ],
   "source": [
    "# Basic statistics for fuel_efficiency_mpg\n",
    "print(\"Fuel Efficiency MPG Statistics:\")\n",
    "print(df['fuel_efficiency_mpg'].describe())"
   ]
  },
  {
   "cell_type": "code",
   "execution_count": 12,
   "id": "19319f78-f82c-4640-80f0-7506b559a5ef",
   "metadata": {},
   "outputs": [
    {
     "name": "stdout",
     "output_type": "stream",
     "text": [
      "\n",
      "Skewness: -0.012\n",
      "Interpretation: Skewness > 1 indicates a long right tail\n"
     ]
    }
   ],
   "source": [
    "# Check for skewness\n",
    "from scipy.stats import skew\n",
    "skewness = skew(df['fuel_efficiency_mpg'])\n",
    "print(f\"\\nSkewness: {skewness:.3f}\")\n",
    "print(\"Interpretation: Skewness > 1 indicates a long right tail\")"
   ]
  },
  {
   "cell_type": "code",
   "execution_count": 14,
   "id": "8ccd4163-1b58-4c69-9435-d0efc71c134b",
   "metadata": {},
   "outputs": [
    {
     "data": {
      "text/plain": [
       "Text(0, 0.5, 'Frequency')"
      ]
     },
     "execution_count": 14,
     "metadata": {},
     "output_type": "execute_result"
    },
    {
     "data": {
      "image/png": "[encoded data removed]",
      "text/plain": [
       "<Figure size 1200x400 with 1 Axes>"
      ]
     },
     "metadata": {},
     "output_type": "display_data"
    }
   ],
   "source": [
    "import matplotlib.pyplot as plt\n",
    "import seaborn as sns\n",
    "# Visualize the distribution\n",
    "plt.figure(figsize=(12, 4))\n",
    "\n",
    "# Histogram\n",
    "plt.subplot(1, 3, 1)\n",
    "plt.hist(df['fuel_efficiency_mpg'], bins=30, edgecolor='black', alpha=0.7)\n",
    "plt.title('Distribution of Fuel Efficiency (MPG)')\n",
    "plt.xlabel('Fuel Efficiency (MPG)')\n",
    "plt.ylabel('Frequency')"
   ]
  },
  {
   "cell_type": "code",
   "execution_count": 15,
   "id": "7815f456-7334-4f60-8867-813e028bd47e",
   "metadata": {},
   "outputs": [
    {
     "data": {
      "text/plain": [
       "Text(0, 0.5, 'Fuel Efficiency (MPG)')"
      ]
     },
     "execution_count": 15,
     "metadata": {},
     "output_type": "execute_result"
    },
    {
     "data": {
      "image/png": "[encoded data removed]",
      "text/plain": [
       "<Figure size 640x480 with 1 Axes>"
      ]
     },
     "metadata": {},
     "output_type": "display_data"
    }
   ],
   "source": [
    "# Box plot\n",
    "plt.subplot(1, 3, 2)\n",
    "plt.boxplot(df['fuel_efficiency_mpg'])\n",
    "plt.title('Box Plot of Fuel Efficiency (MPG)')\n",
    "plt.ylabel('Fuel Efficiency (MPG)')"
   ]
  },
  {
   "cell_type": "code",
   "execution_count": 16,
   "id": "a9b0b7e1-9370-44ec-865a-9627e4d7a605",
   "metadata": {},
   "outputs": [
    {
     "data": {
      "image/png": "[encoded data removed]",
      "text/plain": [
       "<Figure size 640x480 with 1 Axes>"
      ]
     },
     "metadata": {},
     "output_type": "display_data"
    }
   ],
   "source": [
    "# Q-Q plot to check normality\n",
    "from scipy import stats\n",
    "plt.subplot(1, 3, 3)\n",
    "stats.probplot(df['fuel_efficiency_mpg'], dist=\"norm\", plot=plt)\n",
    "plt.title('Q-Q Plot')\n",
    "\n",
    "plt.tight_layout()\n",
    "plt.show()"
   ]
  },
  {
   "cell_type": "markdown",
   "id": "1be66a31-16f8-49f9-8030-8ae1e26d2651",
   "metadata": {},
   "source": [
    "# Question 1\n",
    "There's one column with missing values. What is it?"
   ]
  },
  {
   "cell_type": "code",
   "execution_count": 18,
   "id": "e337b7de-ab98-441c-bb1b-806acf969ee5",
   "metadata": {},
   "outputs": [
    {
     "name": "stdout",
     "output_type": "stream",
     "text": [
      "Missing values per column:\n",
      "engine_displacement      0\n",
      "horsepower             708\n",
      "vehicle_weight           0\n",
      "model_year               0\n",
      "fuel_efficiency_mpg      0\n",
      "dtype: int64\n"
     ]
    }
   ],
   "source": [
    "# Check for missing values in each column\n",
    "print(\"Missing values per column:\")\n",
    "missing_values = df_selected.isnull().sum()\n",
    "print(missing_values)"
   ]
  },
  {
   "cell_type": "markdown",
   "id": "5c65efbd-3254-47e2-8810-44df90ab04b5",
   "metadata": {},
   "source": [
    "# Question 2.\n",
    "Median for horse power"
   ]
  },
  {
   "cell_type": "code",
   "execution_count": 19,
   "id": "0a9f742f-6d7f-411d-b3c4-72af085299e9",
   "metadata": {},
   "outputs": [
    {
     "name": "stdout",
     "output_type": "stream",
     "text": [
      "Median horsepower: 149.0\n"
     ]
    }
   ],
   "source": [
    "# Calculate median for horsepower \n",
    "horsepower_median = df_selected['horsepower'].median()\n",
    "print(f\"Median horsepower: {horsepower_median}\")"
   ]
  },
  {
   "cell_type": "markdown",
   "id": "531826c3-7b4f-46b4-af49-26bacda2408a",
   "metadata": {},
   "source": [
    "# Question 3. Filling NAs"
   ]
  },
  {
   "cell_type": "code",
   "execution_count": 25,
   "id": "a9eaa258-7798-464c-8dce-8ecedefb3c04",
   "metadata": {},
   "outputs": [
    {
     "name": "stderr",
     "output_type": "stream",
     "text": [
      "/tmp/ipykernel_9034/527790233.py:6: FutureWarning: A value is trying to be set on a copy of a DataFrame or Series through chained assignment using an inplace method.\n",
      "The behavior will change in pandas 3.0. This inplace method will never work because the intermediate object on which we are setting values always behaves as a copy.\n",
      "\n",
      "For example, when doing 'df[col].method(value, inplace=True)', try using 'df.method({col: value}, inplace=True)' or df[col] = df[col].method(value) instead, to perform the operation inplace on the original object.\n",
      "\n",
      "\n",
      "  df_zero['horsepower'].fillna(0, inplace=True)\n",
      "/tmp/ipykernel_9034/527790233.py:11: FutureWarning: A value is trying to be set on a copy of a DataFrame or Series through chained assignment using an inplace method.\n",
      "The behavior will change in pandas 3.0. This inplace method will never work because the intermediate object on which we are setting values always behaves as a copy.\n",
      "\n",
      "For example, when doing 'df[col].method(value, inplace=True)', try using 'df.method({col: value}, inplace=True)' or df[col] = df[col].method(value) instead, to perform the operation inplace on the original object.\n",
      "\n",
      "\n",
      "  df_mean['horsepower'].fillna(hp_mean, inplace=True)\n"
     ]
    },
    {
     "name": "stdout",
     "output_type": "stream",
     "text": [
      "\n",
      "Mean horsepower value: 149.7\n",
      "\n",
      "Testing both approaches:\n",
      "Fill with 0: RMSE = 0.5302\n",
      "Fill with mean: RMSE = 0.4704\n",
      "\n",
      "Filling with mean works better!\n"
     ]
    }
   ],
   "source": [
    "from sklearn.linear_model import LinearRegression\n",
    "from sklearn.model_selection import train_test_split\n",
    "from sklearn.metrics import mean_squared_error\n",
    "# Approach 1: Fill missing horsepower with 0\n",
    "df_zero = df_selected.copy()\n",
    "df_zero['horsepower'].fillna(0, inplace=True)\n",
    "\n",
    "# Approach 2: Fill missing horsepower with mean\n",
    "df_mean = df_selected.copy()\n",
    "hp_mean = df_selected['horsepower'].mean()\n",
    "df_mean['horsepower'].fillna(hp_mean, inplace=True)\n",
    "\n",
    "print(f\"\\nMean horsepower value: {hp_mean:.1f}\")\n",
    "\n",
    "#  test both with a simple model\n",
    "def test_approach(data, name):\n",
    "    X = data[['engine_displacement', 'horsepower', 'vehicle_weight', 'model_year']]\n",
    "    y = data['fuel_efficiency_mpg']\n",
    "    \n",
    "    X_train, X_test, y_train, y_test = train_test_split(X, y, test_size=0.2, random_state=42)\n",
    "    \n",
    "    model = LinearRegression()\n",
    "    model.fit(X_train, y_train)\n",
    "    predictions = model.predict(X_test)\n",
    "    \n",
    "    rmse = np.sqrt(mean_squared_error(y_test, predictions))\n",
    "    print(f\"{name}: RMSE = {rmse:.4f}\")\n",
    "    return rmse\n",
    "\n",
    "print(\"\\nTesting both approaches:\")\n",
    "rmse_zero = test_approach(df_zero, \"Fill with 0\")\n",
    "rmse_mean = test_approach(df_mean, \"Fill with mean\")\n",
    "\n",
    "# Which one is better?\n",
    "if rmse_zero < rmse_mean:\n",
    "    print(\"\\nFilling with 0 works better!\")\n",
    "elif rmse_mean < rmse_zero:\n",
    "    print(\"\\nFilling with mean works better!\")\n",
    "else:\n",
    "    print(\"\\nBoth methods work equally well!\")"
   ]
  },
  {
   "cell_type": "markdown",
   "id": "815879d3-9e67-40ff-b105-99c6dacc702f",
   "metadata": {},
   "source": [
    "# Question 4. \n",
    "Best regularization"
   ]
  },
  {
   "cell_type": "code",
   "execution_count": 27,
   "id": "ecebee5e-946a-428f-98d8-3abe75bc5111",
   "metadata": {},
   "outputs": [
    {
     "name": "stdout",
     "output_type": "stream",
     "text": [
      "Testing different regularization parameters:\n",
      "----------------------------------------\n",
      "Alpha = 0: RMSE = 0.4704\n",
      "Alpha = 0.01: RMSE = 0.4704\n",
      "Alpha = 1: RMSE = 0.4704\n",
      "Alpha = 10: RMSE = 0.4704\n",
      "Alpha = 100: RMSE = 0.4704\n",
      "----------------------------------------\n",
      "Best regularization parameter: 0\n",
      "Best RMSE: 0.4704\n"
     ]
    },
    {
     "name": "stderr",
     "output_type": "stream",
     "text": [
      "/tmp/ipykernel_9034/2765268444.py:13: FutureWarning: A value is trying to be set on a copy of a DataFrame or Series through chained assignment using an inplace method.\n",
      "The behavior will change in pandas 3.0. This inplace method will never work because the intermediate object on which we are setting values always behaves as a copy.\n",
      "\n",
      "For example, when doing 'df[col].method(value, inplace=True)', try using 'df.method({col: value}, inplace=True)' or df[col] = df[col].method(value) instead, to perform the operation inplace on the original object.\n",
      "\n",
      "\n",
      "  df_selected['horsepower'].fillna(df_selected['horsepower'].mean(), inplace=True)\n"
     ]
    }
   ],
   "source": [
    "import pandas as pd\n",
    "import numpy as np\n",
    "from sklearn.linear_model import Ridge\n",
    "from sklearn.model_selection import train_test_split\n",
    "from sklearn.metrics import mean_squared_error\n",
    "\n",
    "# Load and prepare the data\n",
    "df = pd.read_csv('../01-ml_introduction/car_fuel_efficiency.csv')\n",
    "cols = ['engine_displacement', 'horsepower', 'vehicle_weight', 'model_year', 'fuel_efficiency_mpg']\n",
    "df_selected = df[cols].copy()\n",
    "\n",
    "# Fill missing horsepower values with mean (from Question 3)\n",
    "df_selected['horsepower'].fillna(df_selected['horsepower'].mean(), inplace=True)\n",
    "\n",
    "# Prepare features and target\n",
    "X = df_selected[['engine_displacement', 'horsepower', 'vehicle_weight', 'model_year']]\n",
    "y = df_selected['fuel_efficiency_mpg']\n",
    "\n",
    "# Split the data\n",
    "X_train, X_test, y_train, y_test = train_test_split(X, y, test_size=0.2, random_state=42)\n",
    "\n",
    "# Test different regularization values\n",
    "alpha_values = [0, 0.01, 1, 10, 100]\n",
    "\n",
    "print(\"Testing different regularization parameters:\")\n",
    "print(\"-\" * 40)\n",
    "\n",
    "best_alpha = None\n",
    "best_rmse = float('inf')\n",
    "\n",
    "for alpha in alpha_values:\n",
    "    # Create and train Ridge model\n",
    "    model = Ridge(alpha=alpha)\n",
    "    model.fit(X_train, y_train)\n",
    "    \n",
    "    # Make predictions\n",
    "    y_pred = model.predict(X_test)\n",
    "    \n",
    "    # Calculate RMSE\n",
    "    rmse = np.sqrt(mean_squared_error(y_test, y_pred))\n",
    "    \n",
    "    print(f\"Alpha = {alpha}: RMSE = {rmse:.4f}\")\n",
    "    \n",
    "    # Keep track of the best result\n",
    "    if rmse < best_rmse:\n",
    "        best_rmse = rmse\n",
    "        best_alpha = alpha\n",
    "\n",
    "print(\"-\" * 40)\n",
    "print(f\"Best regularization parameter: {best_alpha}\")\n",
    "print(f\"Best RMSE: {best_rmse:.4f}\")"
   ]
  },
  {
   "cell_type": "code",
   "execution_count": 28,
   "id": "010da9aa-cabb-4209-a47c-91ce0cd01f27",
   "metadata": {},
   "outputs": [
    {
     "name": "stdout",
     "output_type": "stream",
     "text": [
      "Running experiments with different random seeds:\n",
      "--------------------------------------------------\n",
      "Seed 0: RMSE = 0.4669\n",
      "Seed 1: RMSE = 0.4523\n",
      "Seed 2: RMSE = 0.4669\n",
      "Seed 3: RMSE = 0.4589\n",
      "Seed 4: RMSE = 0.4640\n",
      "Seed 5: RMSE = 0.4589\n",
      "Seed 6: RMSE = 0.4589\n",
      "Seed 7: RMSE = 0.4584\n",
      "Seed 8: RMSE = 0.4690\n",
      "Seed 9: RMSE = 0.4657\n",
      "--------------------------------------------------\n",
      "RMSE scores: [np.float64(0.4668864425179343), np.float64(0.4523356865139963), np.float64(0.46689260702901725), np.float64(0.45888609438783384), np.float64(0.4639904050983533), np.float64(0.45894743423775225), np.float64(0.4588915075442759), np.float64(0.45843328126999644), np.float64(0.46900545247447234), np.float64(0.4656914737713599)]\n",
      "Mean RMSE: 0.4620\n",
      "Standard deviation of RMSE: 0.0050\n",
      "Rounded to 3 decimal places: 0.005\n"
     ]
    },
    {
     "name": "stderr",
     "output_type": "stream",
     "text": [
      "/tmp/ipykernel_9034/2351258442.py:13: FutureWarning: A value is trying to be set on a copy of a DataFrame or Series through chained assignment using an inplace method.\n",
      "The behavior will change in pandas 3.0. This inplace method will never work because the intermediate object on which we are setting values always behaves as a copy.\n",
      "\n",
      "For example, when doing 'df[col].method(value, inplace=True)', try using 'df.method({col: value}, inplace=True)' or df[col] = df[col].method(value) instead, to perform the operation inplace on the original object.\n",
      "\n",
      "\n",
      "  df_selected['horsepower'].fillna(df_selected['horsepower'].mean(), inplace=True)\n"
     ]
    }
   ],
   "source": [
    "import pandas as pd\n",
    "import numpy as np\n",
    "from sklearn.linear_model import Ridge\n",
    "from sklearn.model_selection import train_test_split\n",
    "from sklearn.metrics import mean_squared_error\n",
    "\n",
    "# Load and prepare the data\n",
    "df = pd.read_csv('../01-ml_introduction/car_fuel_efficiency.csv')\n",
    "cols = ['engine_displacement', 'horsepower', 'vehicle_weight', 'model_year', 'fuel_efficiency_mpg']\n",
    "df_selected = df[cols].copy()\n",
    "\n",
    "# Fill missing horsepower values with mean\n",
    "df_selected['horsepower'].fillna(df_selected['horsepower'].mean(), inplace=True)\n",
    "\n",
    "# Prepare features and target\n",
    "X = df_selected[['engine_displacement', 'horsepower', 'vehicle_weight', 'model_year']]\n",
    "y = df_selected['fuel_efficiency_mpg']\n",
    "\n",
    "\n",
    "best_alpha = 0 \n",
    "\n",
    "# Run experiments with different random seeds\n",
    "seeds = [0, 1, 2, 3, 4, 5, 6, 7, 8, 9]\n",
    "rmse_scores = []\n",
    "\n",
    "print(\"Running experiments with different random seeds:\")\n",
    "print(\"-\" * 50)\n",
    "\n",
    "for seed in seeds:\n",
    "    # Split data with different random seed\n",
    "    X_train, X_test, y_train, y_test = train_test_split(X, y, test_size=0.2, random_state=seed)\n",
    "    \n",
    "    # Train Ridge model\n",
    "    model = Ridge(alpha=best_alpha)\n",
    "    model.fit(X_train, y_train)\n",
    "    \n",
    "    # Make predictions\n",
    "    y_pred = model.predict(X_test)\n",
    "    \n",
    "    # Calculate RMSE\n",
    "    rmse = np.sqrt(mean_squared_error(y_test, y_pred))\n",
    "    rmse_scores.append(rmse)\n",
    "    \n",
    "    print(f\"Seed {seed}: RMSE = {rmse:.4f}\")\n",
    "\n",
    "# Calculate standard deviation of RMSE scores\n",
    "rmse_std = np.std(rmse_scores)\n",
    "\n",
    "print(\"-\" * 50)\n",
    "print(f\"RMSE scores: {rmse_scores}\")\n",
    "print(f\"Mean RMSE: {np.mean(rmse_scores):.4f}\")\n",
    "print(f\"Standard deviation of RMSE: {rmse_std:.4f}\")\n",
    "print(f\"Rounded to 3 decimal places: {rmse_std:.3f}\")"
   ]
  },
  {
   "cell_type": "code",
   "execution_count": null,
   "id": "2a37476d-e4c4-4ea7-be5c-4ec0196b4363",
   "metadata": {},
   "outputs": [],
   "source": []
  }
 ],
 "metadata": {
  "kernelspec": {
   "display_name": "Python 3 (ipykernel)",
   "language": "python",
   "name": "python3"
  },
  "language_info": {
   "codemirror_mode": {
    "name": "ipython",
    "version": 3
   },
   "file_extension": ".py",
   "mimetype": "text/x-python",
   "name": "python",
   "nbconvert_exporter": "python",
   "pygments_lexer": "ipython3",
   "version": "3.12.1"
  }
 },
 "nbformat": 4,
 "nbformat_minor": 5
}
