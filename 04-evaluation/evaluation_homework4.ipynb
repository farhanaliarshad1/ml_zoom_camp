{
 "cells": [
  {
   "cell_type": "code",
   "execution_count": null,
   "id": "beed9888-4d6f-4ff7-8d75-ddbde20f2c20",
   "metadata": {},
   "outputs": [],
   "source": []
  }
 ],
 "metadata": {
  "kernelspec": {
   "display_name": "",
   "name": ""
  },
  "language_info": {
   "name": ""
  }
 },
 "nbformat": 4,
 "nbformat_minor": 5
}
