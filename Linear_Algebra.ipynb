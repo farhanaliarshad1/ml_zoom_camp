{
 "cells": [
  {
   "cell_type": "markdown",
   "id": "57a43253-3b45-42b6-b6cb-fbcfb86fcfb0",
   "metadata": {},
   "source": [
    "# Vector operations\n"
   ]
  },
  {
   "cell_type": "code",
   "execution_count": 2,
   "id": "91bc1dae-d87e-4234-b801-05d4869187ed",
   "metadata": {},
   "outputs": [],
   "source": [
    "import numpy as np"
   ]
  },
  {
   "cell_type": "code",
   "execution_count": 78,
   "id": "3eb9e45e-f679-470d-a1e4-16a26d68d123",
   "metadata": {},
   "outputs": [
    {
     "data": {
      "text/plain": [
       "array([ 6,  8, 16, 12])"
      ]
     },
     "execution_count": 78,
     "metadata": {},
     "output_type": "execute_result"
    }
   ],
   "source": [
    "u = np.array([2, 7, 5, 6])\n",
    "v = np.array([3, 4, 8, 6])\n",
    "\n",
    "# addition \n",
    "u + v\n",
    "\n",
    "# subtraction \n",
    "u - v\n",
    "\n",
    "# scalar multiplication \n",
    "2 * v"
   ]
  },
  {
   "cell_type": "code",
   "execution_count": 79,
   "id": "551b7ef9-58f8-4644-a234-ffd6c2d37aef",
   "metadata": {},
   "outputs": [
    {
     "data": {
      "text/plain": [
       "array([ 5, 11, 13, 12])"
      ]
     },
     "execution_count": 79,
     "metadata": {},
     "output_type": "execute_result"
    }
   ],
   "source": [
    "# addition \n",
    "u + v"
   ]
  },
  {
   "cell_type": "code",
   "execution_count": 80,
   "id": "8a817301-2385-4230-a4cf-e5fd22161c44",
   "metadata": {},
   "outputs": [
    {
     "data": {
      "text/plain": [
       "array([-1,  3, -3,  0])"
      ]
     },
     "execution_count": 80,
     "metadata": {},
     "output_type": "execute_result"
    }
   ],
   "source": [
    "# subtraction \n",
    "u - v"
   ]
  },
  {
   "cell_type": "code",
   "execution_count": 81,
   "id": "58ea6f9b-4c78-4b35-82ca-da724d64a8ef",
   "metadata": {},
   "outputs": [
    {
     "data": {
      "text/plain": [
       "array([ 6, 28, 40, 36])"
      ]
     },
     "execution_count": 81,
     "metadata": {},
     "output_type": "execute_result"
    }
   ],
   "source": [
    "# scalar multiplication \n",
    "u * v"
   ]
  },
  {
   "cell_type": "markdown",
   "id": "e1732732-f43c-4c37-810c-fb23870cbcd4",
   "metadata": {},
   "source": [
    "# Multiplication"
   ]
  },
  {
   "cell_type": "code",
   "execution_count": 82,
   "id": "e2bf412c-7f6a-4531-a3ba-c0c8f5868fc9",
   "metadata": {},
   "outputs": [
    {
     "data": {
      "text/plain": [
       "4"
      ]
     },
     "execution_count": 82,
     "metadata": {},
     "output_type": "execute_result"
    }
   ],
   "source": [
    "v.shape[0]"
   ]
  },
  {
   "cell_type": "code",
   "execution_count": 83,
   "id": "240effe4-1010-4398-930a-8d3b397b86ea",
   "metadata": {},
   "outputs": [],
   "source": [
    "def vector_vector_multiplication(u, v):\n",
    "    assert u.shape[0] == v.shape[0]\n",
    "    \n",
    "    n = u.shape[0]\n",
    "    \n",
    "    result = 0.0\n",
    "\n",
    "    for i in range(n):\n",
    "        result = result + u[i] * v[i]\n",
    "    \n",
    "    return result"
   ]
  },
  {
   "cell_type": "code",
   "execution_count": 84,
   "id": "f3e87152-cb03-468b-a4fb-21a35ef7bffd",
   "metadata": {},
   "outputs": [
    {
     "data": {
      "text/plain": [
       "np.float64(110.0)"
      ]
     },
     "execution_count": 84,
     "metadata": {},
     "output_type": "execute_result"
    }
   ],
   "source": [
    "vector_vector_multiplication(u, v)"
   ]
  },
  {
   "cell_type": "code",
   "execution_count": 85,
   "id": "06b9886e-7505-4bde-91ab-ec5401f6cedb",
   "metadata": {},
   "outputs": [
    {
     "data": {
      "text/plain": [
       "np.int64(110)"
      ]
     },
     "execution_count": 85,
     "metadata": {},
     "output_type": "execute_result"
    }
   ],
   "source": [
    "v.dot(u)"
   ]
  },
  {
   "cell_type": "markdown",
   "id": "835c8679-2d8e-4839-92f7-dc525e496a43",
   "metadata": {},
   "source": [
    "# Matrix-vector multiplication"
   ]
  },
  {
   "cell_type": "code",
   "execution_count": 86,
   "id": "022dea78-021c-46dc-b6c5-5fcb684f7162",
   "metadata": {},
   "outputs": [],
   "source": [
    "U = np.array ([\n",
    "    [2,4,5,6],\n",
    "    [1,2,1,2],\n",
    "    [3,1,2,1],\n",
    "])"
   ]
  },
  {
   "cell_type": "code",
   "execution_count": 87,
   "id": "68a41167-a08d-4849-b03e-435d901e76f5",
   "metadata": {},
   "outputs": [
    {
     "data": {
      "text/plain": [
       "(3, 4)"
      ]
     },
     "execution_count": 87,
     "metadata": {},
     "output_type": "execute_result"
    }
   ],
   "source": [
    "U.shape"
   ]
  },
  {
   "cell_type": "code",
   "execution_count": 88,
   "id": "7f053f2d-9eff-453b-83ac-a1b949788c09",
   "metadata": {},
   "outputs": [],
   "source": [
    "import numpy as np\n",
    "\n",
    "def matrix_vector_multiplication(U, v):\n",
    "    # Check dimensions match: columns of U == size of v\n",
    "    assert U.shape[1] == v.shape[0]\n",
    "\n",
    "    num_rows = U.shape[0]\n",
    "    result = np.zeros(num_rows)\n",
    "\n",
    "    for i in range(num_rows):\n",
    "        # Proper dot product of row i with vector v\n",
    "        result[i] = vector_vector_multiplication(U[i], v)\n",
    "\n",
    "    return result\n"
   ]
  },
  {
   "cell_type": "code",
   "execution_count": 89,
   "id": "4eb50edf-0851-4dd1-a932-68ffbe6efe6f",
   "metadata": {},
   "outputs": [
    {
     "data": {
      "text/plain": [
       "array([98., 31., 35.])"
      ]
     },
     "execution_count": 89,
     "metadata": {},
     "output_type": "execute_result"
    }
   ],
   "source": [
    "matrix_vector_multiplication(U,v)"
   ]
  },
  {
   "cell_type": "code",
   "execution_count": 90,
   "id": "ee8d094a-38d9-49d8-8e75-ef5ebf0849bb",
   "metadata": {},
   "outputs": [
    {
     "data": {
      "text/plain": [
       "array([98, 31, 35])"
      ]
     },
     "execution_count": 90,
     "metadata": {},
     "output_type": "execute_result"
    }
   ],
   "source": [
    "U.dot(v)"
   ]
  },
  {
   "cell_type": "markdown",
   "id": "673e448c-fb6f-43a5-aa3a-5978638493e8",
   "metadata": {},
   "source": [
    "# Matrix-matrix multiplication\n"
   ]
  },
  {
   "cell_type": "code",
   "execution_count": 93,
   "id": "afc22165-aaff-464d-89cf-47b5e32d4a57",
   "metadata": {},
   "outputs": [],
   "source": [
    "V = np.array ([\n",
    "    [1,1,2],\n",
    "    [0,0.5,1],\n",
    "    [0,2,1],\n",
    "    [2,1,0],\n",
    "])"
   ]
  },
  {
   "cell_type": "code",
   "execution_count": 94,
   "id": "b708b298-0859-4430-9b31-d17b33a8d303",
   "metadata": {},
   "outputs": [],
   "source": [
    "def matrix_matrix_multiplication(U, V):\n",
    "    assert U.shape[1] == V.shape[0]\n",
    "    \n",
    "    num_rows = U.shape[0]\n",
    "    num_cols = V.shape[1]\n",
    "    \n",
    "    result = np.zeros((num_rows, num_cols))\n",
    "    \n",
    "    for i in range(num_cols):\n",
    "        vi = V[:, i]\n",
    "        Uvi = matrix_vector_multiplication(U, vi)\n",
    "        result[:, i] = Uvi\n",
    "    \n",
    "    return result"
   ]
  },
  {
   "cell_type": "code",
   "execution_count": 95,
   "id": "a0547adc-f359-4c40-90a7-ad01c36d5a12",
   "metadata": {},
   "outputs": [
    {
     "data": {
      "text/plain": [
       "array([[14. , 20. , 13. ],\n",
       "       [ 5. ,  6. ,  5. ],\n",
       "       [ 5. ,  8.5,  9. ]])"
      ]
     },
     "execution_count": 95,
     "metadata": {},
     "output_type": "execute_result"
    }
   ],
   "source": [
    "matrix_matrix_multiplication(U, V)"
   ]
  },
  {
   "cell_type": "code",
   "execution_count": 96,
   "id": "8d928ad3-fb8b-4c66-843e-f07787b08490",
   "metadata": {},
   "outputs": [
    {
     "data": {
      "text/plain": [
       "array([[14. , 20. , 13. ],\n",
       "       [ 5. ,  6. ,  5. ],\n",
       "       [ 5. ,  8.5,  9. ]])"
      ]
     },
     "execution_count": 96,
     "metadata": {},
     "output_type": "execute_result"
    }
   ],
   "source": [
    "U.dot(V)"
   ]
  },
  {
   "cell_type": "markdown",
   "id": "ba4d925b-915c-463d-88ef-e2be568d66ba",
   "metadata": {},
   "source": [
    "# Identity matrix\n"
   ]
  },
  {
   "cell_type": "code",
   "execution_count": 97,
   "id": "58fbc934-f687-4a6b-974f-ce3ba852d34d",
   "metadata": {},
   "outputs": [],
   "source": [
    "I = np.eye(3)"
   ]
  },
  {
   "cell_type": "code",
   "execution_count": 98,
   "id": "7676d79c-1ba6-4ccf-9c27-f0c99c32c94d",
   "metadata": {},
   "outputs": [
    {
     "data": {
      "text/plain": [
       "array([[1., 0., 0.],\n",
       "       [0., 1., 0.],\n",
       "       [0., 0., 1.]])"
      ]
     },
     "execution_count": 98,
     "metadata": {},
     "output_type": "execute_result"
    }
   ],
   "source": [
    "I"
   ]
  },
  {
   "cell_type": "code",
   "execution_count": 99,
   "id": "fe58d236-2429-4d06-b224-fc85cf99db46",
   "metadata": {},
   "outputs": [
    {
     "data": {
      "text/plain": [
       "array([[1. , 1. , 2. ],\n",
       "       [0. , 0.5, 1. ],\n",
       "       [0. , 2. , 1. ],\n",
       "       [2. , 1. , 0. ]])"
      ]
     },
     "execution_count": 99,
     "metadata": {},
     "output_type": "execute_result"
    }
   ],
   "source": [
    "V.dot(I)"
   ]
  },
  {
   "cell_type": "code",
   "execution_count": 100,
   "id": "ce8fd378-46ef-418a-ada4-023356a540af",
   "metadata": {},
   "outputs": [],
   "source": [
    "V = np.array([\n",
    "    [1, 1, 2],\n",
    "    [0, 0.5, 1], \n",
    "    [0, 2, 1],\n",
    "])\n",
    "inv = np.linalg.inv(V)"
   ]
  },
  {
   "cell_type": "code",
   "execution_count": 101,
   "id": "7e4dce0b-550b-4f1d-b472-16ca6d20460a",
   "metadata": {},
   "outputs": [
    {
     "data": {
      "text/plain": [
       "array([[ 1.        , -2.        ,  0.        ],\n",
       "       [ 0.        , -0.66666667,  0.66666667],\n",
       "       [ 0.        ,  1.33333333, -0.33333333]])"
      ]
     },
     "execution_count": 101,
     "metadata": {},
     "output_type": "execute_result"
    }
   ],
   "source": [
    "inv"
   ]
  },
  {
   "cell_type": "code",
   "execution_count": null,
   "id": "c3426715-051a-4625-949e-c5bff223a20d",
   "metadata": {},
   "outputs": [],
   "source": []
  }
 ],
 "metadata": {
  "kernelspec": {
   "display_name": "Python 3 (ipykernel)",
   "language": "python",
   "name": "python3"
  },
  "language_info": {
   "codemirror_mode": {
    "name": "ipython",
    "version": 3
   },
   "file_extension": ".py",
   "mimetype": "text/x-python",
   "name": "python",
   "nbconvert_exporter": "python",
   "pygments_lexer": "ipython3",
   "version": "3.12.1"
  }
 },
 "nbformat": 4,
 "nbformat_minor": 5
}
