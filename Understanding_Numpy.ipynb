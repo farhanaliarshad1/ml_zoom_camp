{
 "cells": [
  {
   "cell_type": "code",
   "execution_count": 1,
   "id": "58d9b628-0bf9-4229-86fc-bb5458ff9b64",
   "metadata": {},
   "outputs": [],
   "source": [
    "import numpy as np"
   ]
  },
  {
   "cell_type": "markdown",
   "id": "476286b4-20b3-4e67-9c6d-46c14f794a83",
   "metadata": {},
   "source": [
    "# creating arrays"
   ]
  },
  {
   "cell_type": "code",
   "execution_count": 7,
   "id": "91b66fc0-fafb-476c-a9c7-d00dd5abb960",
   "metadata": {},
   "outputs": [
    {
     "data": {
      "text/plain": [
       "array([0., 0., 0., 0., 0., 0., 0., 0., 0., 0.])"
      ]
     },
     "execution_count": 7,
     "metadata": {},
     "output_type": "execute_result"
    }
   ],
   "source": [
    "np.zeros(10)"
   ]
  },
  {
   "cell_type": "code",
   "execution_count": 9,
   "id": "b630929e-1885-4e6f-82c0-d86d0eef7e9c",
   "metadata": {},
   "outputs": [
    {
     "data": {
      "text/plain": [
       "array([1., 1., 1., 1., 1., 1., 1., 1., 1., 1.])"
      ]
     },
     "execution_count": 9,
     "metadata": {},
     "output_type": "execute_result"
    }
   ],
   "source": [
    "np.ones(10)"
   ]
  },
  {
   "cell_type": "code",
   "execution_count": 10,
   "id": "11eb8e87-9641-47cc-83fc-7ab856760e4f",
   "metadata": {},
   "outputs": [
    {
     "data": {
      "text/plain": [
       "array([2.5, 2.5, 2.5, 2.5, 2.5, 2.5, 2.5, 2.5, 2.5, 2.5])"
      ]
     },
     "execution_count": 10,
     "metadata": {},
     "output_type": "execute_result"
    }
   ],
   "source": [
    "np.full(10,2.5)"
   ]
  },
  {
   "cell_type": "markdown",
   "id": "0fae39a2-fa95-4433-bbae-7a837d1c1266",
   "metadata": {},
   "source": [
    "# Converting Lists to Arrays"
   ]
  },
  {
   "cell_type": "code",
   "execution_count": 11,
   "id": "525bb9b1-5fc3-4ae6-89e8-5b1d43ff4e36",
   "metadata": {},
   "outputs": [],
   "source": [
    "my_list = [2, 3, 4]\n",
    "array_from_list = np.array(my_list)"
   ]
  },
  {
   "cell_type": "code",
   "execution_count": 12,
   "id": "edf00d93-4167-4dd9-974b-82098244a054",
   "metadata": {},
   "outputs": [
    {
     "data": {
      "text/plain": [
       "array([2, 3, 4])"
      ]
     },
     "execution_count": 12,
     "metadata": {},
     "output_type": "execute_result"
    }
   ],
   "source": [
    "array_from_list"
   ]
  },
  {
   "cell_type": "markdown",
   "id": "df5466e9-55fb-462a-88de-c393a882c444",
   "metadata": {},
   "source": [
    "# Generating Ranges of Numbers\n"
   ]
  },
  {
   "cell_type": "code",
   "execution_count": 13,
   "id": "cbf08f1c-dfb0-499c-b437-bb5ea98eb380",
   "metadata": {},
   "outputs": [
    {
     "data": {
      "text/plain": [
       "array([0, 1, 2, 3, 4, 5, 6, 7, 8, 9])"
      ]
     },
     "execution_count": 13,
     "metadata": {},
     "output_type": "execute_result"
    }
   ],
   "source": [
    "range_array = np.arange(10) \n",
    "range_array"
   ]
  },
  {
   "cell_type": "markdown",
   "id": "8cacba2e-0ff1-4d0a-b7e5-bd2cf139f4c9",
   "metadata": {},
   "source": [
    "# Creating Arrays with Linear Spacing\n"
   ]
  },
  {
   "cell_type": "code",
   "execution_count": 14,
   "id": "f626acc5-d7fb-49ac-a119-b80c31c77e38",
   "metadata": {},
   "outputs": [
    {
     "data": {
      "text/plain": [
       "array([0. , 0.1, 0.2, 0.3, 0.4, 0.5, 0.6, 0.7, 0.8, 0.9, 1. ])"
      ]
     },
     "execution_count": 14,
     "metadata": {},
     "output_type": "execute_result"
    }
   ],
   "source": [
    "linspace_array = np.linspace(0, 1, 11)  \n",
    "linspace_array"
   ]
  },
  {
   "cell_type": "markdown",
   "id": "aaf9bd6c-dba6-4c4a-a4d8-3043285e8ac6",
   "metadata": {},
   "source": [
    "# Multi-dimensional Arrays"
   ]
  },
  {
   "cell_type": "code",
   "execution_count": 21,
   "id": "1d8ce77a-e8ce-4071-84b9-299596514fff",
   "metadata": {},
   "outputs": [],
   "source": [
    "zeros_matrix = np.zeros((5, 2))\n",
    "ones_matrix = np.ones((5, 2))\n",
    "constant_matrix = np.full((5, 2), 3)"
   ]
  },
  {
   "cell_type": "code",
   "execution_count": 22,
   "id": "5897063a-af00-4981-92b7-0eda36819046",
   "metadata": {},
   "outputs": [
    {
     "data": {
      "text/plain": [
       "array([[3, 3],\n",
       "       [3, 3],\n",
       "       [3, 3],\n",
       "       [3, 3],\n",
       "       [3, 3]])"
      ]
     },
     "execution_count": 22,
     "metadata": {},
     "output_type": "execute_result"
    }
   ],
   "source": [
    "constant_matrix"
   ]
  },
  {
   "cell_type": "markdown",
   "id": "2e0cb0d6-8dab-4b43-89ed-67d07379a05d",
   "metadata": {},
   "source": [
    "# Indexing and Slicing Arrays\n",
    "Like Python lists, you can access elements in Numpy arrays using indexing and slicing. For two-dimensional arrays:\n"
   ]
  },
  {
   "cell_type": "code",
   "execution_count": 35,
   "id": "1cbba73b-1fb6-4de6-bb56-b1a1a2e55656",
   "metadata": {},
   "outputs": [],
   "source": [
    "arr = np.array([[2, 3, 4], [4, 5, 6]])\n",
    "first_row = arr[0]      # Gets the first row\n",
    "first_col = arr[:, 0]  # Gets the first column"
   ]
  },
  {
   "cell_type": "code",
   "execution_count": 29,
   "id": "952f1358-8a7e-4b16-85fc-5aed2b17b66f",
   "metadata": {},
   "outputs": [
    {
     "data": {
      "text/plain": [
       "array([4, 5, 6])"
      ]
     },
     "execution_count": 29,
     "metadata": {},
     "output_type": "execute_result"
    }
   ],
   "source": [
    "first_row"
   ]
  },
  {
   "cell_type": "code",
   "execution_count": 36,
   "id": "fc073491-e7eb-4d1b-b34e-9cc8a62a0867",
   "metadata": {},
   "outputs": [
    {
     "data": {
      "text/plain": [
       "array([2, 4])"
      ]
     },
     "execution_count": 36,
     "metadata": {},
     "output_type": "execute_result"
    }
   ],
   "source": [
    "first_col"
   ]
  },
  {
   "cell_type": "markdown",
   "id": "3cd627e3-d8d1-405d-9a1a-bb96541f864c",
   "metadata": {},
   "source": [
    "# Generating Random Arrays\n",
    "Numpy can create arrays filled with random numbers. To ensure reproducibility, you can set a seed using np.random.seed():\n",
    "\n"
   ]
  },
  {
   "cell_type": "code",
   "execution_count": 47,
   "id": "bad9e673-3619-4ddb-bd45-3dd67f754f19",
   "metadata": {},
   "outputs": [],
   "source": [
    "np.random.seed(3)  # Set the seed\n",
    "random_array = np.random.rand(5, 2)  # Generates random numbers between 0 and 1"
   ]
  },
  {
   "cell_type": "code",
   "execution_count": 48,
   "id": "bf30b27d-2b6c-4b2c-9660-8e850a1e40fd",
   "metadata": {},
   "outputs": [
    {
     "data": {
      "text/plain": [
       "array([[0.5507979 , 0.70814782],\n",
       "       [0.29090474, 0.51082761],\n",
       "       [0.89294695, 0.89629309],\n",
       "       [0.12558531, 0.20724288],\n",
       "       [0.0514672 , 0.44080984]])"
      ]
     },
     "execution_count": 48,
     "metadata": {},
     "output_type": "execute_result"
    }
   ],
   "source": [
    "random_array"
   ]
  },
  {
   "cell_type": "markdown",
   "id": "f76d7756-ed8b-4d6b-9236-21e840dcfb77",
   "metadata": {},
   "source": [
    "# Array Operations\n",
    "Element-wise Operations"
   ]
  },
  {
   "cell_type": "code",
   "execution_count": 54,
   "id": "4605c7f1-7353-40fa-9b8a-7d99e53040a4",
   "metadata": {},
   "outputs": [
    {
     "data": {
      "text/plain": [
       "382"
      ]
     },
     "execution_count": 54,
     "metadata": {},
     "output_type": "execute_result"
    }
   ],
   "source": [
    "arr = arr + 1   \n",
    "arr = arr * 2 \n",
    "arr"
   ]
  },
  {
   "cell_type": "markdown",
   "id": "1b489e35-dd69-4697-9e53-7c64a64adb66",
   "metadata": {},
   "source": [
    "# Element-wise Operations with Two Arrays"
   ]
  },
  {
   "cell_type": "code",
   "execution_count": 59,
   "id": "813973f0-6bad-499d-b507-a13228205114",
   "metadata": {},
   "outputs": [],
   "source": [
    "arr1 = np.ones(4)\n",
    "arr2 = np.full(4, 3)\n",
    "result_addition = arr1 + arr2  # Element-wise addition\n",
    "result_multiplication = arr1 / arr2  # Element-wise division"
   ]
  },
  {
   "cell_type": "code",
   "execution_count": 58,
   "id": "2ab421b9-c655-4496-92d1-b2c74d8e00a7",
   "metadata": {},
   "outputs": [
    {
     "data": {
      "text/plain": [
       "array([4., 4., 4., 4.])"
      ]
     },
     "execution_count": 58,
     "metadata": {},
     "output_type": "execute_result"
    }
   ],
   "source": [
    "result_addition"
   ]
  },
  {
   "cell_type": "code",
   "execution_count": 60,
   "id": "2f297e65-cb34-4f13-a793-7cd5ca991c20",
   "metadata": {},
   "outputs": [
    {
     "data": {
      "text/plain": [
       "array([0.33333333, 0.33333333, 0.33333333, 0.33333333])"
      ]
     },
     "execution_count": 60,
     "metadata": {},
     "output_type": "execute_result"
    }
   ],
   "source": [
    "result_multiplication"
   ]
  },
  {
   "cell_type": "markdown",
   "id": "b7c6b854-be2d-400d-bb55-0933e7224838",
   "metadata": {},
   "source": [
    "# Comparison Operations\n"
   ]
  },
  {
   "cell_type": "code",
   "execution_count": 61,
   "id": "411480ef-2442-4c4c-9fd5-eb7a7b173b72",
   "metadata": {},
   "outputs": [],
   "source": [
    "arr = np.array([1, 2, 3, 4])\n",
    "greater_than_2 = arr > 2  # Produces [False, False, True, True]"
   ]
  },
  {
   "cell_type": "code",
   "execution_count": 62,
   "id": "086392bc-3b3e-4dc6-84ff-367bb7a59d69",
   "metadata": {},
   "outputs": [
    {
     "data": {
      "text/plain": [
       "array([False, False,  True,  True])"
      ]
     },
     "execution_count": 62,
     "metadata": {},
     "output_type": "execute_result"
    }
   ],
   "source": [
    "greater_than_2"
   ]
  },
  {
   "cell_type": "code",
   "execution_count": null,
   "id": "887c40eb-a2d3-4484-9931-5563edf15347",
   "metadata": {},
   "outputs": [],
   "source": []
  }
 ],
 "metadata": {
  "kernelspec": {
   "display_name": "Python 3 (ipykernel)",
   "language": "python",
   "name": "python3"
  },
  "language_info": {
   "codemirror_mode": {
    "name": "ipython",
    "version": 3
   },
   "file_extension": ".py",
   "mimetype": "text/x-python",
   "name": "python",
   "nbconvert_exporter": "python",
   "pygments_lexer": "ipython3",
   "version": "3.12.1"
  }
 },
 "nbformat": 4,
 "nbformat_minor": 5
}
